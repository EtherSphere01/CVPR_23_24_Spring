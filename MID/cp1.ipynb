{
 "cells": [
  {
   "cell_type": "markdown",
   "id": "9c3e97d9-86d1-4197-a33f-b9aa176f0c0f",
   "metadata": {},
   "source": [
    "# List Operations"
   ]
  },
  {
   "cell_type": "code",
   "execution_count": 4,
   "id": "eade8986-98f6-4220-b765-769645f0c977",
   "metadata": {},
   "outputs": [
    {
     "name": "stdout",
     "output_type": "stream",
     "text": [
      "[1, 2, 3, 4, 5, 6, 7, 8, 9, 10]\n",
      "[1, 2, 3, 4, 5, 6, 7, 8, 9, 10, 1, 4, 9, 16, 25, 36, 49, 64, 81, 100]\n",
      "Sum of all element = 440\n"
     ]
    }
   ],
   "source": [
    "list1 = [i for i in range(1,11)]\n",
    "print(list1)\n",
    "\n",
    "newlist = [i**2 for i in list1]\n",
    "for i in newlist:\n",
    "    list1.append(i)\n",
    "print(list1)\n",
    "\n",
    "sum = 0;\n",
    "for i in list1:\n",
    "    sum+=i;\n",
    "\n",
    "print(f'Sum of all element = {sum}')"
   ]
  },
  {
   "cell_type": "markdown",
   "id": "df55a75c-1430-4e67-8393-1b094b243fa7",
   "metadata": {},
   "source": [
    "# Tuple Operations"
   ]
  },
  {
   "cell_type": "code",
   "execution_count": 2,
   "id": "fc481bf4-576f-4b82-8569-363578ac74d9",
   "metadata": {},
   "outputs": [
    {
     "name": "stdout",
     "output_type": "stream",
     "text": [
      "(2, 4, 6, 8, 10)\n",
      "Product of all element = 3840\n"
     ]
    }
   ],
   "source": [
    "tuple = (2,4,6,8,10)\n",
    "print(tuple)\n",
    "\n",
    "product = 1\n",
    "for i in tuple:\n",
    "    product*=i;\n",
    "    \n",
    "print(f'Product of all element = {product}')\n"
   ]
  },
  {
   "cell_type": "markdown",
   "id": "e63b390b-1a85-4f8a-bece-6dd8a7c5f648",
   "metadata": {},
   "source": [
    "# Set Operations"
   ]
  },
  {
   "cell_type": "code",
   "execution_count": 3,
   "id": "345ebd02-4d7e-4181-b5b3-c4a37a7de45d",
   "metadata": {},
   "outputs": [
    {
     "name": "stdout",
     "output_type": "stream",
     "text": [
      "Set1 =  {1, 3, 5, 7, 9}\n",
      "Set2 =  {1, 2, 3, 4, 5, 6, 7, 8, 9}\n",
      "The union of the two sets = {1, 2, 3, 4, 5, 6, 7, 8, 9}\n",
      "The intersection of the two sets = {1, 3, 5, 7, 9}\n"
     ]
    }
   ],
   "source": [
    "set1 = {i for i in range(1,10,2)}\n",
    "print('Set1 = ', set1)\n",
    "set2={i for i in range(1,10)}\n",
    "print('Set2 = ', set2)\n",
    "print(f'The union of the two sets = {set1.union(set2)}')\n",
    "print(f'The intersection of the two sets = {set1.intersection(set2)}')\n"
   ]
  },
  {
   "cell_type": "markdown",
   "id": "b5c3afeb-ad81-4160-9d55-eb4bee1e5964",
   "metadata": {},
   "source": [
    "# Dictionary Operations"
   ]
  },
  {
   "cell_type": "code",
   "execution_count": 4,
   "id": "1886bb31-73a2-4ab6-aaf1-c17a16ca5781",
   "metadata": {},
   "outputs": [
    {
     "name": "stdout",
     "output_type": "stream",
     "text": [
      "{'a': 65, 'b': 66, 'c': 67, 'd': 68, 'e': 69}\n"
     ]
    }
   ],
   "source": [
    "dict={'a':65,'b':66,'c':67,'d':68,'e':69}\n",
    "print(dict)"
   ]
  },
  {
   "cell_type": "markdown",
   "id": "c25d71d8-78fb-42bc-a828-edb81e3417cd",
   "metadata": {},
   "source": [
    "# Functional Programming"
   ]
  },
  {
   "cell_type": "code",
   "execution_count": 5,
   "id": "3a0b8d73-a4ab-47bc-9a1b-d6f7698408d0",
   "metadata": {},
   "outputs": [
    {
     "name": "stdout",
     "output_type": "stream",
     "text": [
      "[1, 2, 3, 4, 5, 6, 7, 8, 9, 10]\n",
      "Square of each element = [1, 4, 9, 16, 25, 36, 49, 64, 81, 100]\n"
     ]
    }
   ],
   "source": [
    "def square(x):\n",
    "    return x**2\n",
    "    \n",
    "nums = [i for i in range(1,11)]\n",
    "print(nums)\n",
    "update = list(map(square,nums))\n",
    "print(f'Square of each element = {update}')"
   ]
  },
  {
   "cell_type": "code",
   "execution_count": null,
   "id": "e43d7de2-b6b6-4890-a61e-e4b7b4e35f44",
   "metadata": {},
   "outputs": [],
   "source": []
  }
 ],
 "metadata": {
  "kernelspec": {
   "display_name": "Python 3 (ipykernel)",
   "language": "python",
   "name": "python3"
  },
  "language_info": {
   "codemirror_mode": {
    "name": "ipython",
    "version": 3
   },
   "file_extension": ".py",
   "mimetype": "text/x-python",
   "name": "python",
   "nbconvert_exporter": "python",
   "pygments_lexer": "ipython3",
   "version": "3.11.5"
  }
 },
 "nbformat": 4,
 "nbformat_minor": 5
}
